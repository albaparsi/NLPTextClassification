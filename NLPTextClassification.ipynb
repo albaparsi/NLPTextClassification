{
 "cells": [
  {
   "cell_type": "code",
   "execution_count": 2,
   "id": "a80327f6-65e1-48f8-83d6-6069c2e1ecb5",
   "metadata": {},
   "outputs": [],
   "source": [
    "import json\n",
    "import tensorflow as tf\n",
    "\n",
    "from tensorflow.keras.preprocessing.text import Tokenizer\n",
    "from tensorflow.keras.preprocessing.sequence import pad_sequences"
   ]
  },
  {
   "cell_type": "code",
   "execution_count": 3,
   "id": "da93cfbd-d194-4600-adaf-f373e2865c91",
   "metadata": {},
   "outputs": [],
   "source": [
    "vocab_size = 10000\n",
    "embedding_dim = 16\n",
    "max_length = 100\n",
    "trunc_type='post'\n",
    "padding_type='post'\n",
    "oov_tok = \"<OOV>\"\n",
    "training_size = 20000\n"
   ]
  },
  {
   "cell_type": "code",
   "execution_count": 6,
   "id": "5e4278a9-4328-42a8-9ec4-9b35cd0a01c1",
   "metadata": {},
   "outputs": [
    {
     "name": "stdout",
     "output_type": "stream",
     "text": [
      "Total headlines: 26709\n",
      "Total labels: 26709\n",
      "Total URLs: 26709\n"
     ]
    }
   ],
   "source": [
    "sentences = []\n",
    "labels = []\n",
    "urls = []\n",
    "\n",
    "with open(\"sarcasm_Headlines_Dataset.json\", 'r') as f:\n",
    "    for line in f:\n",
    "        item = json.loads(line)\n",
    "        sentences.append(item['headline'])\n",
    "        labels.append(item['is_sarcastic'])\n",
    "        urls.append(item['article_link'])\n",
    "\n",
    "# Check the loaded data\n",
    "print(f\"Total headlines: {len(sentences)}\")\n",
    "print(f\"Total labels: {len(labels)}\")\n",
    "print(f\"Total URLs: {len(urls)}\")\n"
   ]
  },
  {
   "cell_type": "code",
   "execution_count": 8,
   "id": "de6bc755-dd2c-4b16-999e-7e4eaa487dba",
   "metadata": {},
   "outputs": [],
   "source": [
    "training_sentences = sentences[0:training_size]\n",
    "testing_sentences = sentences[training_size:]\n",
    "training_labels = labels[0:training_size]\n",
    "testing_labels = labels[training_size:]"
   ]
  },
  {
   "cell_type": "code",
   "execution_count": 10,
   "id": "32f967b6-3a67-40ce-b75c-548c73e3e4b0",
   "metadata": {},
   "outputs": [
    {
     "name": "stdout",
     "output_type": "stream",
     "text": [
      "First 10 items in the word_index dictionary:\n",
      "<OOV>: 1\n",
      "to: 2\n",
      "of: 3\n",
      "the: 4\n",
      "in: 5\n",
      "for: 6\n",
      "a: 7\n",
      "on: 8\n",
      "and: 9\n",
      "with: 10\n"
     ]
    }
   ],
   "source": [
    "#initialize the tokenizer\n",
    "tokenizer = Tokenizer(num_words=vocab_size, oov_token=oov_tok)\n",
    "#fit the tokenizer on the texts\n",
    "tokenizer.fit_on_texts(training_sentences)\n",
    "#get the word index dictionary\n",
    "word_index = tokenizer.word_index\n",
    "\n",
    "print(\"First 10 items in the word_index dictionary:\")\n",
    "for i, (word, index) in enumerate(word_index.items()):\n",
    "    if i < 10:\n",
    "        print(f\"{word}: {index}\")\n",
    "    else:\n",
    "        break\n",
    "\n",
    "training_sequences = tokenizer.texts_to_sequences(training_sentences)\n",
    "training_padded = pad_sequences(training_sequences, maxlen=max_length, padding=padding_type, truncating=trunc_type)\n",
    "\n",
    "testing_sequences = tokenizer.texts_to_sequences(testing_sentences)\n",
    "testing_padded = pad_sequences(testing_sequences, maxlen=max_length, padding=padding_type, truncating=trunc_type)"
   ]
  },
  {
   "cell_type": "code",
   "execution_count": 12,
   "id": "476bbca4-96cd-4551-bac9-12b943bd8c5b",
   "metadata": {},
   "outputs": [],
   "source": [
    "# Need this block to get it to work with TensorFlow 2.x\n",
    "import numpy as np\n",
    "training_padded = np.array(training_padded)\n",
    "training_labels = np.array(training_labels)\n",
    "testing_padded = np.array(testing_padded)\n",
    "testing_labels = np.array(testing_labels)\n",
    "                        "
   ]
  },
  {
   "cell_type": "code",
   "execution_count": 14,
   "id": "185b00cb-d841-48b5-a5f2-2662dbdb1b3f",
   "metadata": {},
   "outputs": [],
   "source": [
    "#model architecture\n",
    "model = tf.keras.Sequential([\n",
    "    tf.keras.layers.Embedding(vocab_size, embedding_dim),\n",
    "    tf.keras.layers.GlobalAveragePooling1D(),\n",
    "    tf.keras.layers.Dense(24, activation='relu'),\n",
    "    tf.keras.layers.Dense(1, activation='sigmoid')\n",
    "])\n"
   ]
  },
  {
   "cell_type": "code",
   "execution_count": 20,
   "id": "a1abecb2-3659-4f12-81b3-59c80f68559b",
   "metadata": {},
   "outputs": [],
   "source": [
    "model.compile(loss='binary_crossentropy',optimizer='adam',metrics=['accuracy'])"
   ]
  },
  {
   "cell_type": "code",
   "execution_count": 26,
   "id": "1e6ffa25-b466-4fe4-ab6c-68426ec6485e",
   "metadata": {},
   "outputs": [
    {
     "data": {
      "text/html": [
       "<pre style=\"white-space:pre;overflow-x:auto;line-height:normal;font-family:Menlo,'DejaVu Sans Mono',consolas,'Courier New',monospace\"><span style=\"font-weight: bold\">Model: \"sequential\"</span>\n",
       "</pre>\n"
      ],
      "text/plain": [
       "\u001b[1mModel: \"sequential\"\u001b[0m\n"
      ]
     },
     "metadata": {},
     "output_type": "display_data"
    },
    {
     "data": {
      "text/html": [
       "<pre style=\"white-space:pre;overflow-x:auto;line-height:normal;font-family:Menlo,'DejaVu Sans Mono',consolas,'Courier New',monospace\">┏━━━━━━━━━━━━━━━━━━━━━━━━━━━━━━━━━┳━━━━━━━━━━━━━━━━━━━━━━━━┳━━━━━━━━━━━━━━━┓\n",
       "┃<span style=\"font-weight: bold\"> Layer (type)                    </span>┃<span style=\"font-weight: bold\"> Output Shape           </span>┃<span style=\"font-weight: bold\">       Param # </span>┃\n",
       "┡━━━━━━━━━━━━━━━━━━━━━━━━━━━━━━━━━╇━━━━━━━━━━━━━━━━━━━━━━━━╇━━━━━━━━━━━━━━━┩\n",
       "│ embedding (<span style=\"color: #0087ff; text-decoration-color: #0087ff\">Embedding</span>)           │ (<span style=\"color: #00af00; text-decoration-color: #00af00\">32</span>, <span style=\"color: #00af00; text-decoration-color: #00af00\">100</span>, <span style=\"color: #00af00; text-decoration-color: #00af00\">16</span>)          │       <span style=\"color: #00af00; text-decoration-color: #00af00\">160,000</span> │\n",
       "├─────────────────────────────────┼────────────────────────┼───────────────┤\n",
       "│ global_average_pooling1d        │ (<span style=\"color: #00af00; text-decoration-color: #00af00\">32</span>, <span style=\"color: #00af00; text-decoration-color: #00af00\">16</span>)               │             <span style=\"color: #00af00; text-decoration-color: #00af00\">0</span> │\n",
       "│ (<span style=\"color: #0087ff; text-decoration-color: #0087ff\">GlobalAveragePooling1D</span>)        │                        │               │\n",
       "├─────────────────────────────────┼────────────────────────┼───────────────┤\n",
       "│ dense (<span style=\"color: #0087ff; text-decoration-color: #0087ff\">Dense</span>)                   │ (<span style=\"color: #00af00; text-decoration-color: #00af00\">32</span>, <span style=\"color: #00af00; text-decoration-color: #00af00\">24</span>)               │           <span style=\"color: #00af00; text-decoration-color: #00af00\">408</span> │\n",
       "├─────────────────────────────────┼────────────────────────┼───────────────┤\n",
       "│ dense_1 (<span style=\"color: #0087ff; text-decoration-color: #0087ff\">Dense</span>)                 │ (<span style=\"color: #00af00; text-decoration-color: #00af00\">32</span>, <span style=\"color: #00af00; text-decoration-color: #00af00\">1</span>)                │            <span style=\"color: #00af00; text-decoration-color: #00af00\">25</span> │\n",
       "└─────────────────────────────────┴────────────────────────┴───────────────┘\n",
       "</pre>\n"
      ],
      "text/plain": [
       "┏━━━━━━━━━━━━━━━━━━━━━━━━━━━━━━━━━┳━━━━━━━━━━━━━━━━━━━━━━━━┳━━━━━━━━━━━━━━━┓\n",
       "┃\u001b[1m \u001b[0m\u001b[1mLayer (type)                   \u001b[0m\u001b[1m \u001b[0m┃\u001b[1m \u001b[0m\u001b[1mOutput Shape          \u001b[0m\u001b[1m \u001b[0m┃\u001b[1m \u001b[0m\u001b[1m      Param #\u001b[0m\u001b[1m \u001b[0m┃\n",
       "┡━━━━━━━━━━━━━━━━━━━━━━━━━━━━━━━━━╇━━━━━━━━━━━━━━━━━━━━━━━━╇━━━━━━━━━━━━━━━┩\n",
       "│ embedding (\u001b[38;5;33mEmbedding\u001b[0m)           │ (\u001b[38;5;34m32\u001b[0m, \u001b[38;5;34m100\u001b[0m, \u001b[38;5;34m16\u001b[0m)          │       \u001b[38;5;34m160,000\u001b[0m │\n",
       "├─────────────────────────────────┼────────────────────────┼───────────────┤\n",
       "│ global_average_pooling1d        │ (\u001b[38;5;34m32\u001b[0m, \u001b[38;5;34m16\u001b[0m)               │             \u001b[38;5;34m0\u001b[0m │\n",
       "│ (\u001b[38;5;33mGlobalAveragePooling1D\u001b[0m)        │                        │               │\n",
       "├─────────────────────────────────┼────────────────────────┼───────────────┤\n",
       "│ dense (\u001b[38;5;33mDense\u001b[0m)                   │ (\u001b[38;5;34m32\u001b[0m, \u001b[38;5;34m24\u001b[0m)               │           \u001b[38;5;34m408\u001b[0m │\n",
       "├─────────────────────────────────┼────────────────────────┼───────────────┤\n",
       "│ dense_1 (\u001b[38;5;33mDense\u001b[0m)                 │ (\u001b[38;5;34m32\u001b[0m, \u001b[38;5;34m1\u001b[0m)                │            \u001b[38;5;34m25\u001b[0m │\n",
       "└─────────────────────────────────┴────────────────────────┴───────────────┘\n"
      ]
     },
     "metadata": {},
     "output_type": "display_data"
    },
    {
     "data": {
      "text/html": [
       "<pre style=\"white-space:pre;overflow-x:auto;line-height:normal;font-family:Menlo,'DejaVu Sans Mono',consolas,'Courier New',monospace\"><span style=\"font-weight: bold\"> Total params: </span><span style=\"color: #00af00; text-decoration-color: #00af00\">481,301</span> (1.84 MB)\n",
       "</pre>\n"
      ],
      "text/plain": [
       "\u001b[1m Total params: \u001b[0m\u001b[38;5;34m481,301\u001b[0m (1.84 MB)\n"
      ]
     },
     "metadata": {},
     "output_type": "display_data"
    },
    {
     "data": {
      "text/html": [
       "<pre style=\"white-space:pre;overflow-x:auto;line-height:normal;font-family:Menlo,'DejaVu Sans Mono',consolas,'Courier New',monospace\"><span style=\"font-weight: bold\"> Trainable params: </span><span style=\"color: #00af00; text-decoration-color: #00af00\">160,433</span> (626.69 KB)\n",
       "</pre>\n"
      ],
      "text/plain": [
       "\u001b[1m Trainable params: \u001b[0m\u001b[38;5;34m160,433\u001b[0m (626.69 KB)\n"
      ]
     },
     "metadata": {},
     "output_type": "display_data"
    },
    {
     "data": {
      "text/html": [
       "<pre style=\"white-space:pre;overflow-x:auto;line-height:normal;font-family:Menlo,'DejaVu Sans Mono',consolas,'Courier New',monospace\"><span style=\"font-weight: bold\"> Non-trainable params: </span><span style=\"color: #00af00; text-decoration-color: #00af00\">0</span> (0.00 B)\n",
       "</pre>\n"
      ],
      "text/plain": [
       "\u001b[1m Non-trainable params: \u001b[0m\u001b[38;5;34m0\u001b[0m (0.00 B)\n"
      ]
     },
     "metadata": {},
     "output_type": "display_data"
    },
    {
     "data": {
      "text/html": [
       "<pre style=\"white-space:pre;overflow-x:auto;line-height:normal;font-family:Menlo,'DejaVu Sans Mono',consolas,'Courier New',monospace\"><span style=\"font-weight: bold\"> Optimizer params: </span><span style=\"color: #00af00; text-decoration-color: #00af00\">320,868</span> (1.22 MB)\n",
       "</pre>\n"
      ],
      "text/plain": [
       "\u001b[1m Optimizer params: \u001b[0m\u001b[38;5;34m320,868\u001b[0m (1.22 MB)\n"
      ]
     },
     "metadata": {},
     "output_type": "display_data"
    }
   ],
   "source": [
    "model.summary()"
   ]
  },
  {
   "cell_type": "code",
   "execution_count": 24,
   "id": "2d93accb-fa7b-4199-98ec-900d509ae20a",
   "metadata": {},
   "outputs": [
    {
     "name": "stdout",
     "output_type": "stream",
     "text": [
      "Epoch 1/30\n",
      "625/625 - 1s - 1ms/step - accuracy: 0.5768 - loss: 0.6750 - val_accuracy: 0.5755 - val_loss: 0.6319\n",
      "Epoch 2/30\n",
      "625/625 - 1s - 918us/step - accuracy: 0.7520 - loss: 0.5144 - val_accuracy: 0.7846 - val_loss: 0.4551\n",
      "Epoch 3/30\n",
      "625/625 - 1s - 905us/step - accuracy: 0.8291 - loss: 0.3878 - val_accuracy: 0.8392 - val_loss: 0.3856\n",
      "Epoch 4/30\n",
      "625/625 - 1s - 900us/step - accuracy: 0.8536 - loss: 0.3408 - val_accuracy: 0.8182 - val_loss: 0.3934\n",
      "Epoch 5/30\n",
      "625/625 - 1s - 890us/step - accuracy: 0.8735 - loss: 0.3007 - val_accuracy: 0.8508 - val_loss: 0.3561\n",
      "Epoch 6/30\n",
      "625/625 - 1s - 906us/step - accuracy: 0.8907 - loss: 0.2710 - val_accuracy: 0.8041 - val_loss: 0.4286\n",
      "Epoch 7/30\n",
      "625/625 - 1s - 901us/step - accuracy: 0.9008 - loss: 0.2462 - val_accuracy: 0.8527 - val_loss: 0.3496\n",
      "Epoch 8/30\n",
      "625/625 - 1s - 913us/step - accuracy: 0.9060 - loss: 0.2319 - val_accuracy: 0.8545 - val_loss: 0.3482\n",
      "Epoch 9/30\n",
      "625/625 - 1s - 910us/step - accuracy: 0.9116 - loss: 0.2203 - val_accuracy: 0.8290 - val_loss: 0.4083\n",
      "Epoch 10/30\n",
      "625/625 - 1s - 896us/step - accuracy: 0.9175 - loss: 0.2086 - val_accuracy: 0.8508 - val_loss: 0.3564\n",
      "Epoch 11/30\n",
      "625/625 - 1s - 910us/step - accuracy: 0.9265 - loss: 0.1856 - val_accuracy: 0.8459 - val_loss: 0.3850\n",
      "Epoch 12/30\n",
      "625/625 - 1s - 904us/step - accuracy: 0.9305 - loss: 0.1775 - val_accuracy: 0.8535 - val_loss: 0.3690\n",
      "Epoch 13/30\n",
      "625/625 - 1s - 908us/step - accuracy: 0.9375 - loss: 0.1627 - val_accuracy: 0.8547 - val_loss: 0.3814\n",
      "Epoch 14/30\n",
      "625/625 - 1s - 896us/step - accuracy: 0.9404 - loss: 0.1559 - val_accuracy: 0.8299 - val_loss: 0.4432\n",
      "Epoch 15/30\n",
      "625/625 - 1s - 900us/step - accuracy: 0.9413 - loss: 0.1513 - val_accuracy: 0.8319 - val_loss: 0.4479\n",
      "Epoch 16/30\n",
      "625/625 - 1s - 902us/step - accuracy: 0.9428 - loss: 0.1472 - val_accuracy: 0.8417 - val_loss: 0.4318\n",
      "Epoch 17/30\n",
      "625/625 - 1s - 906us/step - accuracy: 0.9459 - loss: 0.1394 - val_accuracy: 0.8506 - val_loss: 0.4216\n",
      "Epoch 18/30\n",
      "625/625 - 1s - 909us/step - accuracy: 0.9469 - loss: 0.1364 - val_accuracy: 0.8489 - val_loss: 0.4352\n",
      "Epoch 19/30\n",
      "625/625 - 1s - 930us/step - accuracy: 0.9472 - loss: 0.1344 - val_accuracy: 0.8095 - val_loss: 0.6181\n",
      "Epoch 20/30\n",
      "625/625 - 1s - 908us/step - accuracy: 0.9470 - loss: 0.1355 - val_accuracy: 0.8298 - val_loss: 0.4932\n",
      "Epoch 21/30\n",
      "625/625 - 1s - 905us/step - accuracy: 0.9567 - loss: 0.1173 - val_accuracy: 0.8419 - val_loss: 0.4742\n",
      "Epoch 22/30\n",
      "625/625 - 1s - 907us/step - accuracy: 0.9520 - loss: 0.1216 - val_accuracy: 0.8375 - val_loss: 0.4903\n",
      "Epoch 23/30\n",
      "625/625 - 1s - 928us/step - accuracy: 0.9516 - loss: 0.1232 - val_accuracy: 0.8357 - val_loss: 0.4954\n",
      "Epoch 24/30\n",
      "625/625 - 1s - 921us/step - accuracy: 0.9548 - loss: 0.1149 - val_accuracy: 0.8395 - val_loss: 0.4989\n",
      "Epoch 25/30\n",
      "625/625 - 1s - 909us/step - accuracy: 0.9608 - loss: 0.1029 - val_accuracy: 0.8272 - val_loss: 0.5444\n",
      "Epoch 26/30\n",
      "625/625 - 1s - 914us/step - accuracy: 0.9546 - loss: 0.1169 - val_accuracy: 0.8301 - val_loss: 0.5529\n",
      "Epoch 27/30\n",
      "625/625 - 1s - 923us/step - accuracy: 0.9628 - loss: 0.0977 - val_accuracy: 0.8328 - val_loss: 0.5577\n",
      "Epoch 28/30\n",
      "625/625 - 1s - 913us/step - accuracy: 0.9621 - loss: 0.1026 - val_accuracy: 0.8146 - val_loss: 0.6675\n",
      "Epoch 29/30\n",
      "625/625 - 1s - 913us/step - accuracy: 0.9661 - loss: 0.0876 - val_accuracy: 0.8346 - val_loss: 0.5607\n",
      "Epoch 30/30\n",
      "625/625 - 1s - 919us/step - accuracy: 0.9617 - loss: 0.0993 - val_accuracy: 0.8304 - val_loss: 0.6022\n"
     ]
    }
   ],
   "source": [
    "num_epochs = 30\n",
    "history = model.fit(training_padded, training_labels, epochs=num_epochs, validation_data=(testing_padded, testing_labels), verbose=2)"
   ]
  },
  {
   "cell_type": "code",
   "execution_count": 28,
   "id": "1bfe8969-0179-4702-8d28-2af94abc88c3",
   "metadata": {},
   "outputs": [
    {
     "data": {
      "image/png": "[encoded data removed]",
      "text/plain": [
       "<Figure size 640x480 with 1 Axes>"
      ]
     },
     "metadata": {},
     "output_type": "display_data"
    },
    {
     "data": {
      "image/png": "[encoded data removed]",
      "text/plain": [
       "<Figure size 640x480 with 1 Axes>"
      ]
     },
     "metadata": {},
     "output_type": "display_data"
    }
   ],
   "source": [
    "import matplotlib.pyplot as plt\n",
    "\n",
    "\n",
    "def plot_graphs(history, string):\n",
    "  plt.plot(history.history[string])\n",
    "  plt.plot(history.history['val_'+string])\n",
    "  plt.xlabel(\"Epochs\")\n",
    "  plt.ylabel(string)\n",
    "  plt.legend([string, 'val_'+string])\n",
    "  plt.show()\n",
    "  \n",
    "plot_graphs(history, \"accuracy\")\n",
    "plot_graphs(history, \"loss\")"
   ]
  },
  {
   "cell_type": "code",
   "execution_count": 30,
   "id": "3a363a2c-232f-49bb-953c-e14b5994174f",
   "metadata": {},
   "outputs": [
    {
     "name": "stdout",
     "output_type": "stream",
     "text": [
      "former <OOV> store clerk sues over secret 'black <OOV> for minority shoppers ? ? ? ? ? ? ? ? ? ? ? ? ? ? ? ? ? ? ? ? ? ? ? ? ? ? ? ? ? ? ? ? ? ? ? ? ? ? ? ? ? ? ? ? ? ? ? ? ? ? ? ? ? ? ? ? ? ? ? ? ? ? ? ? ? ? ? ? ? ? ? ? ? ? ? ? ? ? ? ? ? ? ? ? ? ? ? ?\n",
      "mom starting to fear son's web series closest thing she will have to grandchild\n",
      "1\n"
     ]
    }
   ],
   "source": [
    "reverse_word_index = dict([(value, key) for (key, value) in word_index.items()])\n",
    "\n",
    "def decode_sentence(text):\n",
    "    return ' '.join([reverse_word_index.get(i, '?') for i in text])\n",
    "\n",
    "print(decode_sentence(training_padded[0]))\n",
    "print(training_sentences[2])\n",
    "print(labels[2])"
   ]
  },
  {
   "cell_type": "code",
   "execution_count": 32,
   "id": "d3f8b008-53bf-4500-85c8-c84c6889bef8",
   "metadata": {},
   "outputs": [
    {
     "name": "stdout",
     "output_type": "stream",
     "text": [
      "(10000, 16)\n"
     ]
    }
   ],
   "source": [
    "e = model.layers[0]\n",
    "weights = e.get_weights()[0]\n",
    "print(weights.shape) # shape: (vocab_size, embedding_dim)"
   ]
  },
  {
   "cell_type": "code",
   "execution_count": 34,
   "id": "0344e910-01e6-4bea-90db-e6c370b322a6",
   "metadata": {},
   "outputs": [],
   "source": [
    "import io\n",
    "\n",
    "out_v = io.open('vecs.tsv', 'w', encoding='utf-8')\n",
    "out_m = io.open('meta.tsv', 'w', encoding='utf-8')\n",
    "for word_num in range(1, vocab_size):\n",
    "  word = reverse_word_index[word_num]\n",
    "  embeddings = weights[word_num]\n",
    "  out_m.write(word + \"\\n\")\n",
    "  out_v.write('\\t'.join([str(x) for x in embeddings]) + \"\\n\")\n",
    "out_v.close()\n",
    "out_m.close()"
   ]
  },
  {
   "cell_type": "code",
   "execution_count": 46,
   "id": "6042eb75-f23a-424b-a95c-18a77638a4bb",
   "metadata": {},
   "outputs": [
    {
     "name": "stdout",
     "output_type": "stream",
     "text": [
      "\u001b[1m1/1\u001b[0m \u001b[32m━━━━━━━━━━━━━━━━━━━━\u001b[0m\u001b[37m\u001b[0m \u001b[1m0s\u001b[0m 11ms/step\n",
      "Sentence 1: [0.11633992]\n",
      "Sentence 2: [0.00616715]\n"
     ]
    }
   ],
   "source": [
    "sentence = [\"Granny was walking her dog when she stepped onto a pile of dog poop.\", \"She always takes the time to help others without expecting anything in return.\"]\n",
    "sequences = tokenizer.texts_to_sequences(sentence)\n",
    "padded = pad_sequences(sequences, maxlen=max_length, padding=padding_type, truncating=trunc_type)\n",
    "\n",
    "predictions = model.predict(padded)\n",
    "\n",
    "for i, prediction in enumerate(predictions):\n",
    "    print(f\"Sentence {i+1}: {prediction}\")"
   ]
  },
  {
   "cell_type": "code",
   "execution_count": null,
   "id": "d7273d2b-f315-489b-bb78-dd81d8d92bcd",
   "metadata": {},
   "outputs": [],
   "source": []
  }
 ],
 "metadata": {
  "kernelspec": {
   "display_name": "Python 3 (ipykernel)",
   "language": "python",
   "name": "python3"
  },
  "language_info": {
   "codemirror_mode": {
    "name": "ipython",
    "version": 3
   },
   "file_extension": ".py",
   "mimetype": "text/x-python",
   "name": "python",
   "nbconvert_exporter": "python",
   "pygments_lexer": "ipython3",
   "version": "3.11.7"
  }
 },
 "nbformat": 4,
 "nbformat_minor": 5
}
